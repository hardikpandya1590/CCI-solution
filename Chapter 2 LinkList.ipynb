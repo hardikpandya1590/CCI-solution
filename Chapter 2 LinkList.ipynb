{
 "cells": [
  {
   "cell_type": "markdown",
   "metadata": {},
   "source": [
    "# Chapter 2 Link List"
   ]
  },
  {
   "cell_type": "code",
   "execution_count": 1,
   "metadata": {},
   "outputs": [],
   "source": [
    "class Node:\n",
    "        def __init__(self, val):\n",
    "            self.data = val\n",
    "            self.next = None\n",
    "\n",
    "class LinkList:\n",
    "    def __init__(self):\n",
    "        self.head = None   \n",
    "        \n",
    "    def appendEnd(self, val):\n",
    "        '''insert at end'''\n",
    "        if self.head == None:\n",
    "            self.head = Node(val)\n",
    "            return\n",
    "        \n",
    "        temp = self.head\n",
    "        while temp.next != None:\n",
    "            temp = temp.next\n",
    "            \n",
    "        temp.next = Node(val)\n",
    "        \n",
    "        \n",
    "    def display(self):\n",
    "        if self.head == None:\n",
    "            print(\"\\nThe Linklist is empty\")\n",
    "            return\n",
    "        print(\"\\nThe link List is : \")\n",
    "        temp = self.head\n",
    "        while(temp):\n",
    "            print(temp.data, end=\"-\")\n",
    "            temp = temp.next\n",
    "        print(\"none\")\n",
    "        "
   ]
  },
  {
   "cell_type": "code",
   "execution_count": 2,
   "metadata": {},
   "outputs": [],
   "source": [
    "SLL = LinkList()"
   ]
  },
  {
   "cell_type": "code",
   "execution_count": 3,
   "metadata": {},
   "outputs": [
    {
     "name": "stdout",
     "output_type": "stream",
     "text": [
      "\n",
      "The Linklist is empty\n",
      "\n",
      "The link List is : \n",
      "2-none\n",
      "\n",
      "The link List is : \n",
      "2-3-4-5-none\n"
     ]
    }
   ],
   "source": [
    "SLL.display()\n",
    "SLL.appendEnd(2)\n",
    "SLL.display()\n",
    "SLL.appendEnd(3)\n",
    "SLL.appendEnd(4)\n",
    "SLL.appendEnd(5)\n",
    "SLL.display()"
   ]
  },
  {
   "cell_type": "code",
   "execution_count": 4,
   "metadata": {},
   "outputs": [
    {
     "name": "stdout",
     "output_type": "stream",
     "text": [
      "insert at end\n"
     ]
    }
   ],
   "source": [
    "print(SLL.appendEnd.__doc__)"
   ]
  },
  {
   "cell_type": "markdown",
   "metadata": {},
   "source": [
    "# Delete a node with value d, write a external function for that."
   ]
  },
  {
   "cell_type": "code",
   "execution_count": 5,
   "metadata": {},
   "outputs": [],
   "source": [
    "def deleteNode(headNode, d):\n",
    "    if headNode == None:\n",
    "        print(\"Link list is empty\")\n",
    "        return None\n",
    "    if headNode.data == d:\n",
    "        temp = headNode\n",
    "        headNode = headNode.next\n",
    "        temp.next = None\n",
    "        del temp\n",
    "        return headNode\n",
    "    \n",
    "    temp = headNode\n",
    "    while(temp.next is not None):\n",
    "        if temp.next.data == d:\n",
    "            delNode = temp.next\n",
    "            temp.next = temp.next.next\n",
    "            delNode.next = None\n",
    "            del delNode\n",
    "            break\n",
    "        temp = temp.next\n",
    "    \n",
    "    return headNode"
   ]
  },
  {
   "cell_type": "code",
   "execution_count": 6,
   "metadata": {},
   "outputs": [
    {
     "name": "stdout",
     "output_type": "stream",
     "text": [
      "\n",
      "The link List is : \n",
      "2-4-5-none\n"
     ]
    }
   ],
   "source": [
    "SLL.head = deleteNode(SLL.head, 3)\n",
    "SLL.display()"
   ]
  },
  {
   "cell_type": "code",
   "execution_count": 7,
   "metadata": {},
   "outputs": [],
   "source": [
    "#Try all the cases from front, mid, end"
   ]
  },
  {
   "cell_type": "markdown",
   "metadata": {},
   "source": [
    "# Problem 2.1 Remove Duplicates: \n",
    "## Write code to remove duplicates from an unsorted linked list. FOLLOW UP How would you solve this problem if a temporary buffer is not allowed?"
   ]
  },
  {
   "cell_type": "code",
   "execution_count": null,
   "metadata": {},
   "outputs": [],
   "source": []
  },
  {
   "cell_type": "code",
   "execution_count": 8,
   "metadata": {},
   "outputs": [],
   "source": [
    "#Solution\n",
    "\n",
    "def removeDuplicates(head):\n",
    "    if head is None or head.next is None:\n",
    "        return\n",
    "    \n",
    "    fix = head\n",
    "    while(fix is not None and fix.next is not None):\n",
    "        temp = fix\n",
    "        while(temp.next is not None):\n",
    "            if(fix.data == temp.next.data):\n",
    "                temp.next = temp.next.next\n",
    "                continue\n",
    "            temp = temp.next\n",
    "        fix = fix.next\n",
    "        \n",
    "## Time O(n^2)"
   ]
  },
  {
   "cell_type": "code",
   "execution_count": 9,
   "metadata": {},
   "outputs": [
    {
     "name": "stdout",
     "output_type": "stream",
     "text": [
      "\n",
      "The link List is : \n",
      "2-3-4-1-4-2-6-2-none\n",
      "\n",
      "The link List is : \n",
      "2-3-4-1-6-none\n"
     ]
    }
   ],
   "source": [
    "# Input1\n",
    "SLL = LinkList()\n",
    "\n",
    "nodeList = [2,3,4,1,4,2,6,2]\n",
    "for i in nodeList:\n",
    "    SLL.appendEnd(i)\n",
    "\n",
    "SLL.display()\n",
    "removeDuplicates(SLL.head)\n",
    "SLL.display()"
   ]
  },
  {
   "cell_type": "code",
   "execution_count": 10,
   "metadata": {},
   "outputs": [
    {
     "name": "stdout",
     "output_type": "stream",
     "text": [
      "\n",
      "The link List is : \n",
      "2-2-2-2-2-2-2-none\n",
      "\n",
      "The link List is : \n",
      "2-none\n"
     ]
    }
   ],
   "source": [
    "# Input 2\n",
    "SLL = LinkList()\n",
    "\n",
    "nodeList = [2,2,2,2,2,2,2]\n",
    "for i in nodeList:\n",
    "    SLL.appendEnd(i)\n",
    "\n",
    "SLL.display()\n",
    "removeDuplicates(SLL.head)\n",
    "SLL.display()"
   ]
  },
  {
   "cell_type": "markdown",
   "metadata": {},
   "source": [
    "# Problem 2.2 Return Kth to Last: \n",
    "## Implement an algorithm to find the kth to last element of a singly linked list."
   ]
  },
  {
   "cell_type": "code",
   "execution_count": 11,
   "metadata": {},
   "outputs": [],
   "source": [
    "def kthElementToLast(head, k):\n",
    "    temp = head\n",
    "    for i in range(k):\n",
    "        temp = temp.next\n",
    "    ktemp = head\n",
    "    while(temp is not None):\n",
    "        temp  = temp.next\n",
    "        ktemp = ktemp.next\n",
    "    print(\"The kth from last element is \"+ str(ktemp.data))"
   ]
  },
  {
   "cell_type": "code",
   "execution_count": 12,
   "metadata": {},
   "outputs": [
    {
     "name": "stdout",
     "output_type": "stream",
     "text": [
      "\n",
      "The link List is : \n",
      "2-3-4-1-4-9-6-0-none\n",
      "The kth from last element is 9\n"
     ]
    }
   ],
   "source": [
    "# Input1\n",
    "SLL = LinkList()\n",
    "\n",
    "nodeList = [2,3,4,1,4,9,6,0]\n",
    "for i in nodeList:\n",
    "    SLL.appendEnd(i)\n",
    "\n",
    "SLL.display()\n",
    "kthElementToLast(SLL.head, 3)\n"
   ]
  },
  {
   "cell_type": "markdown",
   "metadata": {},
   "source": [
    "## Problem 2.3 Delete Middle Node\n",
    "Implement an algorithm to delete a node in the middle (i.e., any node but\n",
    "the first and last node, not necessarily the exact middle) of a singly linked list, given only access to\n",
    "that node.\n",
    "EXAMPLE\n",
    "Input: the node c from the linked list a - >b- >c - >d - >e- >f\n",
    "Result: nothing is returned, but the new linked list looks like a - >b- >d - >e- >f"
   ]
  },
  {
   "cell_type": "code",
   "execution_count": 13,
   "metadata": {},
   "outputs": [],
   "source": [
    "def deleteMidNode(head):\n",
    "    if head is None or \\\n",
    "        head.next is None or \\\n",
    "         head.next.next is None:\n",
    "                return\n",
    "    T1 = head\n",
    "    T2 = head.next.next\n",
    "    \n",
    "    while(T2 is not None and T2.next is not None):\n",
    "        T2 = T2.next.next\n",
    "        T1 = T1.next\n",
    "        \n",
    "    T1.next = T1.next.next"
   ]
  },
  {
   "cell_type": "code",
   "execution_count": 14,
   "metadata": {},
   "outputs": [
    {
     "name": "stdout",
     "output_type": "stream",
     "text": [
      "\n",
      "The link List is : \n",
      "2-3-4-1-4-9-6-0-none\n",
      "\n",
      "The link List is : \n",
      "2-3-4-1-9-6-0-none\n"
     ]
    }
   ],
   "source": [
    "SLL.display()\n",
    "deleteMidNode(SLL.head)\n",
    "SLL.display()\n"
   ]
  },
  {
   "cell_type": "markdown",
   "metadata": {},
   "source": [
    "## Problem 2.4 Partition:\n",
    "Write code to partition a linked list around a value x, such that all nodes less than x come\n",
    "before all nodes greater than or equal to x . lf x is contained within the list, the values of x only need\n",
    "to be after the elements less than x (see below) . The partition element x can appear anywhere in the\n",
    "\"right partition\"; it does not need to appear between the left and right partitions.\n",
    "EXAMPLE\n",
    "Input: 3 -> 5 -> 8 -> 5 - > 10 -> 2 -> 1 [partition = 5)\n",
    "Output: 3 -> 1 -> 2 -> 10 -> 5 -> 5 -> 8"
   ]
  },
  {
   "cell_type": "code",
   "execution_count": 15,
   "metadata": {},
   "outputs": [],
   "source": [
    "def partition(head, d):\n",
    "    L, Ltemp, G, Gtemp = None, None, None, None\n",
    "    temp = head\n",
    "    while(temp is not None):\n",
    "        if(temp.data < d):\n",
    "            if(L is None):\n",
    "                Ltemp = temp\n",
    "                L = Ltemp\n",
    "            else:\n",
    "                Ltemp.next = temp\n",
    "                Ltemp = temp\n",
    "        else:\n",
    "            if(G is None):\n",
    "                Gtemp = temp\n",
    "                G = Gtemp\n",
    "            else:\n",
    "                Gtemp.next = temp\n",
    "                Gtemp = temp\n",
    "        temp = temp.next\n",
    "    Ltemp.next = G\n",
    "    Gtemp.next = None\n",
    "    return L\n",
    "    "
   ]
  },
  {
   "cell_type": "code",
   "execution_count": 16,
   "metadata": {},
   "outputs": [
    {
     "name": "stdout",
     "output_type": "stream",
     "text": [
      "\n",
      "The link List is : \n",
      "3-5-8-5-10-2-1-none\n",
      "\n",
      "The link List is : \n",
      "3-2-1-5-8-5-10-none\n"
     ]
    }
   ],
   "source": [
    "# Input1\n",
    "SLL = LinkList()\n",
    "\n",
    "nodeList = [3,5,8,5,10,2,1]\n",
    "for i in nodeList:\n",
    "    SLL.appendEnd(i)\n",
    "\n",
    "SLL.display()\n",
    "SLL.head = partition(SLL.head,5)\n",
    "SLL.display()"
   ]
  },
  {
   "cell_type": "markdown",
   "metadata": {},
   "source": [
    "## Problem 2.5 Sum Lists:"
   ]
  },
  {
   "cell_type": "raw",
   "metadata": {},
   "source": [
    "You have two numbers represented by a linked list, where each node contains a single\n",
    "digit. The digits are stored in reverse order, such that the 1 's digit is at the head of the list. Write a\n",
    "function that adds the two numbers and returns the sum as a linked list.\n",
    "EXAMPLE\n",
    "Input: (7-) 1 -) 6) + (5 -) 9 -) 2) .Thatis,617 + 295.\n",
    "Output: 2 -) 1 -) 9. That is, 912.\n",
    "FOLLOW UP\n",
    "Suppose the digits are stored in forward order. Repeat the above problem.\n",
    "EXAMPLE\n",
    "Input: (6 -) 1 -) 7) + (2 -) 9 -) 5) . Thatis,617 + 295 .\n",
    "Output: 9 -) 1 -) 2. That is, 912."
   ]
  },
  {
   "cell_type": "code",
   "execution_count": 17,
   "metadata": {},
   "outputs": [],
   "source": [
    "def sumList(head1, head2):\n",
    "    temp1 = head1\n",
    "    temp2 = head2\n",
    "    sumList = None\n",
    "    sumTemp = None\n",
    "    rem = 0\n",
    "    while(temp1 is not None or temp2 is not None):\n",
    "        val = temp1.data + temp2.data + rem\n",
    "        rem = (int) (val / 10)\n",
    "        val = val%10\n",
    "        print(\"temp1 {0} temp2 {1} val {2} rem {3}\".format(temp1.data, temp2.data, val, rem))\n",
    "        \n",
    "        if sumList is None:\n",
    "            sumList = Node(val)\n",
    "            sumTemp = sumList\n",
    "        else:\n",
    "            temp = Node(val)\n",
    "            sumTemp.next = temp\n",
    "            sumTemp = temp\n",
    "        \n",
    "        temp1 = temp1.next\n",
    "        temp2 = temp2.next\n",
    "        \n",
    "    if temp1 is None:\n",
    "        while(temp2 is not None):\n",
    "            temp = Node(temp2.data + rem)\n",
    "            sumTemp.next = temp\n",
    "            sumTemp = temp\n",
    "            rem = 0\n",
    "            temp2 = temp2.next\n",
    "    \n",
    "    if temp2 is None:\n",
    "        while(temp1 is not None):\n",
    "            temp = Node(temp1.data + rem)\n",
    "            sumTemp.next = temp\n",
    "            sumTemp = temp\n",
    "            rem = 0\n",
    "            temp1 = temp1.next\n",
    "        \n",
    "    return sumList\n",
    "    "
   ]
  },
  {
   "cell_type": "code",
   "execution_count": 18,
   "metadata": {},
   "outputs": [
    {
     "name": "stdout",
     "output_type": "stream",
     "text": [
      "\n",
      "The link List is : \n",
      "7-1-6-none\n",
      "\n",
      "The link List is : \n",
      "5-9-2-none\n",
      "temp1 7 temp2 5 val 2 rem 1\n",
      "temp1 1 temp2 9 val 1 rem 1\n",
      "temp1 6 temp2 2 val 9 rem 0\n",
      "\n",
      "The link List is : \n",
      "2-1-9-none\n"
     ]
    }
   ],
   "source": [
    "SLL1 = LinkList()\n",
    "\n",
    "nodeList = [7,1,6]\n",
    "for i in nodeList:\n",
    "    SLL1.appendEnd(i)\n",
    "\n",
    "SLL2 = LinkList()\n",
    "\n",
    "nodeList = [5,9,2]\n",
    "for i in nodeList:\n",
    "    SLL2.appendEnd(i)\n",
    "\n",
    "SLL1.display()\n",
    "SLL2.display()\n",
    "\n",
    "SLL = LinkList()\n",
    "SLL.head = sumList(SLL1.head, SLL2.head)\n",
    "SLL.display()"
   ]
  },
  {
   "cell_type": "markdown",
   "metadata": {},
   "source": [
    "## Problem 2.6 Palindrome: \n",
    "Implement a function to check if a linked list is a palindrome."
   ]
  },
  {
   "cell_type": "code",
   "execution_count": 19,
   "metadata": {},
   "outputs": [],
   "source": [
    "def reverse(head):\n",
    "    if head is None or head.next is None:\n",
    "        return head\n",
    "    p = None\n",
    "    c = head\n",
    "    f = head.next\n",
    "    \n",
    "    while(f is not None):\n",
    "        c.next = p\n",
    "        p = c\n",
    "        c = f\n",
    "        f = f.next\n",
    "    c.next = p\n",
    "    return c"
   ]
  },
  {
   "cell_type": "code",
   "execution_count": 37,
   "metadata": {},
   "outputs": [],
   "source": [
    "def palindromeCheck(head1, head2):\n",
    "    while(head1 is not None and head2 is not None):\n",
    "        if head1.data != head2.data:\n",
    "            return False\n",
    "        head1 = head1.next\n",
    "        head2 = head2.next\n",
    "        \n",
    "    if (head1 is None and head2 is None):\n",
    "        pass\n",
    "    elif(head1 is None and head2.next is None):\n",
    "        pass\n",
    "    elif(head2 is None and head1.next is None):\n",
    "        pass\n",
    "    else:\n",
    "        return False\n",
    "    return True"
   ]
  },
  {
   "cell_type": "code",
   "execution_count": 47,
   "metadata": {},
   "outputs": [],
   "source": [
    "def palindrome(head):\n",
    "    if head is None or head.next is None:\n",
    "        print(\"String is palindrome\")\n",
    "        return\n",
    "    p1, p2 = head, head.next\n",
    "    while(p2 is not None and p2.next is not None):\n",
    "        p1 = p1.next\n",
    "        p2 = p2.next.next\n",
    "        \n",
    "    s1, s2 = LinkList(), LinkList()\n",
    "    s2.head = reverse(p1.next)\n",
    "    p1.next = None\n",
    "    s1.head = head\n",
    "    \n",
    "    s1.display()\n",
    "    s2.display()\n",
    "    \n",
    "    flag = palindromeCheck(s1.head, s2.head)\n",
    "    print(\"The link list is palindrome \"+ str(flag))\n",
    "    \n",
    "    s2.head = reverse(s2.head)\n",
    "    p1.next = s2.head\n",
    "    return head\n",
    "    "
   ]
  },
  {
   "cell_type": "code",
   "execution_count": 50,
   "metadata": {},
   "outputs": [
    {
     "name": "stdout",
     "output_type": "stream",
     "text": [
      "\n",
      "The link List is : \n",
      "a-b-c-none\n",
      "\n",
      "The link List is : \n",
      "a-c-none\n",
      "The link list is palindrome False\n",
      "\n",
      "The link List is : \n",
      "a-b-c-c-a-none\n"
     ]
    }
   ],
   "source": [
    "# Test\n",
    "SLL = LinkList()\n",
    "\n",
    "nodeList = ['a','b','c', 'c','a']\n",
    "for i in nodeList:\n",
    "    SLL.appendEnd(i)\n",
    "\n",
    "SLL.head = palindrome(SLL.head)\n",
    "SLL.display()"
   ]
  },
  {
   "cell_type": "markdown",
   "metadata": {},
   "source": [
    "## Problem 2.7 Intersection: \n",
    "Given two (singly) linked lists, determine if the two lists intersect. Return the inter-\n",
    "secting node. Note that the intersection is defined based on reference, not value. That is, if the kth\n",
    "node of the first linked list is the exact same node (by reference) as the jth node of the second\n",
    "linked list, then they are intersecting."
   ]
  },
  {
   "cell_type": "code",
   "execution_count": 52,
   "metadata": {},
   "outputs": [],
   "source": [
    "def intersection(head1, head2):\n",
    "    t1 = head1\n",
    "    t2 = head2\n",
    "    tl, ts = None, None\n",
    "    \n",
    "    while(t1 is not None and t2 is not None):\n",
    "        t1 = t1.next\n",
    "        t2 = t2.next\n",
    "    \n",
    "    count = 0\n",
    "    if(t1 is None):\n",
    "        while(t2 is not None):\n",
    "            t2 = t2.next\n",
    "            count += 1\n",
    "        tl = head2\n",
    "        ts = head1\n",
    "    else:\n",
    "        while(t1 is not None):\n",
    "            t1 = t1.next\n",
    "            count += 1\n",
    "        tl = head1\n",
    "        ts = head2\n",
    "        \n",
    "    while(count > 0):\n",
    "        tl = tl.next\n",
    "        count -= 1\n",
    "        \n",
    "    while(tl is not None):\n",
    "        if(tl == ts):\n",
    "            print(\"intersection - \",tl.data)\n",
    "            return\n",
    "        tl = tl.next\n",
    "        ts = ts.next\n",
    "        \n",
    "    print(\"No intersection found\")"
   ]
  },
  {
   "cell_type": "code",
   "execution_count": 62,
   "metadata": {},
   "outputs": [
    {
     "name": "stdout",
     "output_type": "stream",
     "text": [
      "\n",
      "The link List is : \n",
      "1-2-3-4-5-6-7-none\n",
      "\n",
      "The link List is : \n",
      "a-b-4-5-6-7-none\n",
      "intersection -  4\n"
     ]
    }
   ],
   "source": [
    "# Test\n",
    "s1 = LinkList()\n",
    "s2 = LinkList()\n",
    "\n",
    "nodeList = [1,2,3,4,5,6,7]\n",
    "for i in nodeList:\n",
    "    s1.appendEnd(i)\n",
    "\n",
    "nodeList = ['a','b']\n",
    "for i in nodeList:\n",
    "    s2.appendEnd(i)\n",
    "\n",
    "s1.display()\n",
    "s2.head.next.next = s1.head.next.next.next\n",
    "s2.display()\n",
    "\n",
    "# call to intersection function \n",
    "intersection(s1.head, s2.head)"
   ]
  },
  {
   "cell_type": "markdown",
   "metadata": {},
   "source": [
    "## Problem 2.8 Loop Detection: "
   ]
  },
  {
   "cell_type": "raw",
   "metadata": {},
   "source": [
    "Given a circular linked list, implement an algorithm that returns the node at the\n",
    "beginning of the loop.\n",
    "DEFINITION\n",
    "Circular linked list: A (corrupt) linked list in which a node's next pointer points to an earlier node, so\n",
    "as to make a loop in the linked list.\n",
    "EXAMPLE\n",
    "Input: A -) B -) C -) D -) E - ) C [the same C as earlier]\n",
    "Output: C"
   ]
  },
  {
   "cell_type": "code",
   "execution_count": 86,
   "metadata": {},
   "outputs": [],
   "source": [
    "# To get the concept clear we are showing you loop point in data format\n",
    "# the correct way to detect is using node address instead of its data\n",
    "# here dictionary works like it is hashmap in other programming langauge\n",
    "\n",
    "def loopDetection(temp):\n",
    "    d = {}\n",
    "    while(1):\n",
    "        if temp.data in d.keys():\n",
    "            print(temp.data)\n",
    "            break\n",
    "        d[temp.data]=temp\n",
    "        temp = temp.next\n",
    "    print(d)"
   ]
  },
  {
   "cell_type": "code",
   "execution_count": 87,
   "metadata": {},
   "outputs": [
    {
     "name": "stdout",
     "output_type": "stream",
     "text": [
      "\n",
      "The link List is : \n",
      "1-2-3-4-2-none\n",
      "2\n",
      "{1: <__main__.Node object at 0x7fcaa828fe48>, 2: <__main__.Node object at 0x7fcaa828f470>, 3: <__main__.Node object at 0x7fcaa828fc88>, 4: <__main__.Node object at 0x7fcaa828f780>}\n"
     ]
    }
   ],
   "source": [
    "s = LinkList()\n",
    "\n",
    "inputList = [1,2,3,4,2]\n",
    "for i in inputList:\n",
    "    s.appendEnd(i)\n",
    "\n",
    "s.display()\n",
    "loopDetection(s.head)"
   ]
  },
  {
   "cell_type": "markdown",
   "metadata": {},
   "source": []
  }
 ],
 "metadata": {
  "kernelspec": {
   "display_name": "Python 3",
   "language": "python",
   "name": "python3"
  },
  "language_info": {
   "codemirror_mode": {
    "name": "ipython",
    "version": 3
   },
   "file_extension": ".py",
   "mimetype": "text/x-python",
   "name": "python",
   "nbconvert_exporter": "python",
   "pygments_lexer": "ipython3",
   "version": "3.6.7"
  }
 },
 "nbformat": 4,
 "nbformat_minor": 2
}
