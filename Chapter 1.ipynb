{
 "cells": [
  {
   "cell_type": "markdown",
   "metadata": {},
   "source": [
    "## Problem 1.6 String Compression\n",
    "### Implement a method to perform basic string compression using the counts of repeated characters. For example, the string aabcccccaaa would become a2b1c5a3. If the \"compressed\" string would not become smaller than the original string, your method should return the original string. You can assume the string has only uppercase and lowercase letters (a - z)."
   ]
  },
  {
   "cell_type": "code",
   "execution_count": null,
   "metadata": {},
   "outputs": [],
   "source": [
    "S = \"aabcccccaa\""
   ]
  },
  {
   "cell_type": "code",
   "execution_count": null,
   "metadata": {},
   "outputs": [],
   "source": [
    "S = \"abc\""
   ]
  },
  {
   "cell_type": "code",
   "execution_count": null,
   "metadata": {},
   "outputs": [],
   "source": [
    "S = \"aabbcccccccccdd\""
   ]
  },
  {
   "cell_type": "code",
   "execution_count": null,
   "metadata": {},
   "outputs": [],
   "source": [
    "counter = 1\n",
    "LS = []\n",
    "lenS = len(S)\n",
    "for i in range(lenS):\n",
    "    if S[i] == S[i-1]:\n",
    "        counter += 1\n",
    "    else:\n",
    "        LS.append(S[i-1]+str(counter))\n",
    "#         LS.append(counter)\n",
    "        counter = 1\n",
    "        \n",
    "LS.append(S[lenS-1]+str(counter))\n",
    "# LS.append(counter)\n",
    "newS = \"\".join(LS)\n",
    "\n",
    "if len(newS) < lenS:\n",
    "    print(newS)\n",
    "else:\n",
    "    print(S)\n"
   ]
  },
  {
   "cell_type": "markdown",
   "metadata": {},
   "source": [
    "## Problem 1.7 Rotate Matrix\n",
    "### Given an image represented by an NxN matrix, where each pixel in the image is 4 bytes, write a method to rotate the image by 90 degrees. (an you do this in place?"
   ]
  },
  {
   "cell_type": "code",
   "execution_count": 4,
   "metadata": {},
   "outputs": [
    {
     "name": "stdout",
     "output_type": "stream",
     "text": [
      "[[1, 2, 3], [1, 2, 3], [1, 2, 3]]\n"
     ]
    }
   ],
   "source": [
    "A = [[1,2,3], [1,2,3], [1,2,3]]\n",
    "print(A)"
   ]
  },
  {
   "cell_type": "code",
   "execution_count": null,
   "metadata": {},
   "outputs": [],
   "source": [
    "A = [[1,1,2,2], [3,3,4,4], [5,5,6,6], [7,7,8,8]]\n",
    "print(A)"
   ]
  },
  {
   "cell_type": "code",
   "execution_count": 11,
   "metadata": {},
   "outputs": [
    {
     "name": "stdout",
     "output_type": "stream",
     "text": [
      "[[1, 2, 3, 4], [5, 6, 7, 8], [-1, -2, -3, -4]]\n"
     ]
    }
   ],
   "source": [
    "A = [[1,2,3,4], [5,6,7,8], [-1,-2,-3,-4], [-5,-6,-7,-8]]\n",
    "print(A)"
   ]
  },
  {
   "cell_type": "code",
   "execution_count": null,
   "metadata": {},
   "outputs": [],
   "source": [
    "len(A)"
   ]
  },
  {
   "cell_type": "code",
   "execution_count": null,
   "metadata": {},
   "outputs": [],
   "source": [
    "matrilLen = len(A)\n",
    "\n",
    "# transpose Step\n",
    "for i in range(matrilLen):\n",
    "    for j in range(i):\n",
    "        A[i][j], A[j][i] = A[j][i], A[i][j]\n",
    "        \n",
    "# reverse row step\n",
    "for i in range(matrilLen):\n",
    "    for j in range(int(matrilLen/2)):\n",
    "        A[i][j], A[i][matrilLen-j-1] = A[i][matrilLen-j-1], A[i][j]\n"
   ]
  },
  {
   "cell_type": "markdown",
   "metadata": {},
   "source": [
    "## Problem 1.8 Zero Matrix\n",
    "### Write an algorithm such that if an element in an MxN matrix is 0, its entire row and column are set to O"
   ]
  },
  {
   "cell_type": "code",
   "execution_count": 61,
   "metadata": {},
   "outputs": [
    {
     "name": "stdout",
     "output_type": "stream",
     "text": [
      "[[1 1 2 2]\n",
      " [3 3 4 4]\n",
      " [0 5 6 6]\n",
      " [7 7 8 8]]\n"
     ]
    },
    {
     "data": {
      "text/plain": [
       "4"
      ]
     },
     "execution_count": 61,
     "metadata": {},
     "output_type": "execute_result"
    }
   ],
   "source": [
    "import numpy as np \n",
    "A = np.array([[1,1,2,2], [3,3,4,4], [0,5,6,6], [7,7,8,8]])  #NXN\n",
    "\n",
    "print(A)\n",
    "len(A[0]) #column len"
   ]
  },
  {
   "cell_type": "code",
   "execution_count": 67,
   "metadata": {},
   "outputs": [
    {
     "name": "stdout",
     "output_type": "stream",
     "text": [
      "[[1 1 2 2]\n",
      " [3 0 4 4]\n",
      " [5 5 6 6]]\n"
     ]
    }
   ],
   "source": [
    "A = np.array([[1,1,2,2], [3,0,4,4], [5,5,6,6]])  #NXN\n",
    "\n",
    "print(A)\n"
   ]
  },
  {
   "cell_type": "code",
   "execution_count": 68,
   "metadata": {},
   "outputs": [],
   "source": [
    "ListR = []\n",
    "ListC = []\n",
    "for i in range(len(A)):\n",
    "    for j in range(len(A[0])):\n",
    "        if A[i][j] == 0:\n",
    "            ListR.append(i)\n",
    "            ListC.append(j)\n",
    "\n",
    "for i in ListR:\n",
    "    for j in range(len(A[0])):\n",
    "        A[i][j] = 0\n",
    "        \n",
    "for i in range(len(A)):\n",
    "    for j in ListC:\n",
    "        A[i][j] = 0"
   ]
  },
  {
   "cell_type": "code",
   "execution_count": 69,
   "metadata": {},
   "outputs": [
    {
     "name": "stdout",
     "output_type": "stream",
     "text": [
      "[[1 0 2 2]\n",
      " [0 0 0 0]\n",
      " [5 0 6 6]]\n"
     ]
    }
   ],
   "source": [
    "import numpy as np\n",
    "\n",
    "print(A)\n"
   ]
  },
  {
   "cell_type": "markdown",
   "metadata": {},
   "source": [
    "## Problem 1.9 String Rotation\n",
    "### Assume you have a method isSubstring which checks if one word is a substring of another. Given two strings, s1 and s2, write code to check if s2 is a rotation of s1 using only one call to isSubstring (e.g., \"waterbottle\" is a rotation of \"erbottlewat\")."
   ]
  },
  {
   "cell_type": "code",
   "execution_count": 77,
   "metadata": {},
   "outputs": [
    {
     "data": {
      "text/plain": [
       "'a'"
      ]
     },
     "execution_count": 77,
     "metadata": {},
     "output_type": "execute_result"
    }
   ],
   "source": [
    "s1 = \"waterbottle\"\n",
    "s2 = \"erbottlewat\"\n",
    "s1[1]"
   ]
  },
  {
   "cell_type": "code",
   "execution_count": 78,
   "metadata": {},
   "outputs": [
    {
     "name": "stdout",
     "output_type": "stream",
     "text": [
      "True\n"
     ]
    }
   ],
   "source": [
    "def is_substring(string, sub):\n",
    "    return string.find(sub) != -1\n",
    "\n",
    "def string_rotation(s1, s2):\n",
    "    if len(s1) == len(s2) != 0:\n",
    "        return is_substring(s1 + s1, s2)\n",
    "    return False\n",
    "\n",
    "print(string_rotation(s1,s2))"
   ]
  },
  {
   "cell_type": "code",
   "execution_count": null,
   "metadata": {},
   "outputs": [],
   "source": []
  }
 ],
 "metadata": {
  "kernelspec": {
   "display_name": "Python 3",
   "language": "python",
   "name": "python3"
  },
  "language_info": {
   "codemirror_mode": {
    "name": "ipython",
    "version": 3
   },
   "file_extension": ".py",
   "mimetype": "text/x-python",
   "name": "python",
   "nbconvert_exporter": "python",
   "pygments_lexer": "ipython3",
   "version": "3.6.7"
  }
 },
 "nbformat": 4,
 "nbformat_minor": 2
}
